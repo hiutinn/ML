%store -r X
%store -r y
%store -r X_test
%store -r y_test
%store -r feature_names


import numpy as np
import pandas as pd
import matplotlib.pyplot as plt
from sklearn.datasets import load_wine
from sklearn.decomposition import PCA
from sklearn.preprocessing import StandardScaler

X_2d = X.reshape(-1, X.shape[-1])
y_2d = np.repeat(y, 20)


# Standardize the features
scaler = StandardScaler()
X_scaled = scaler.fit_transform(X_2d)


X_scaled.shape


# Perform PCA
pca = PCA()
X_pca = pca.fit_transform(X_scaled)


cumulative_explained_variance  = np.cumsum(pca.explained_variance_ratio_)
num_components = np.argmax(cumulative_explained_variance >= 0.95) + 1


pca = PCA(n_components = 32)
X_selected = pca.fit_transform(X_scaled)


X_selected


# Calculate the explained variance ratio
explained_variance_ratio = pca.explained_variance_ratio_


# Create a 2x1 grid of subplots
fig, (ax1, ax2) = plt.subplots(nrows=1, ncols=2, figsize=(16, 8))

# Plot the explained variance ratio in the first subplot
ax1.bar(range(1, len(explained_variance_ratio) + 1), explained_variance_ratio)
ax1.set_xlabel('Principal Component')
ax1.set_ylabel('Explained Variance Ratio')
ax1.set_title('Explained Variance Ratio by Principal Component')

# Calculate the cumulative explained variance
cumulative_explained_variance = np.cumsum(explained_variance_ratio)

# Plot the cumulative explained variance in the second subplot
ax2.plot(range(1, len(cumulative_explained_variance) + 1), cumulative_explained_variance, marker='o')
ax2.set_xlabel('Number of Principal Components')
ax2.set_ylabel('Cumulative Explained Variance')
ax2.set_title('Cumulative Explained Variance by Principal Components')

# Display the figure
plt.tight_layout()
plt.show()



