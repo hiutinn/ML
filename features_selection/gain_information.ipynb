{
 "cells": [
  {
   "cell_type": "markdown",
   "id": "35c17dfb-edd0-4779-b707-ec44300cb4ee",
   "metadata": {},
   "source": [
    "# Lấy dữ liệu"
   ]
  },
  {
   "cell_type": "code",
   "execution_count": 1,
   "id": "099fd918-8599-47f1-8f8c-136394a4bc8a",
   "metadata": {
    "tags": []
   },
   "outputs": [],
   "source": [
    "%store -r X\n",
    "%store -r y\n",
    "%store -r X_test\n",
    "%store -r y_test\n",
    "%store -r feature_names"
   ]
  },
  {
   "cell_type": "markdown",
   "id": "62fd0765-0159-4696-b14d-dae9dbaf053e",
   "metadata": {},
   "source": [
    "# Thay đổi dữ liệu để phù hợp"
   ]
  },
  {
   "cell_type": "code",
   "execution_count": 2,
   "id": "6877ceeb-1d88-4b58-a57e-9d60c37f24b0",
   "metadata": {},
   "outputs": [],
   "source": [
    "import numpy as np\n",
    "import matplotlib.pyplot as plt\n",
    "from sklearn.feature_selection import mutual_info_regression\n",
    "\n",
    "# Reshape data\n",
    "X_2d = X.reshape(-1, X.shape[-1])\n",
    "y_reshaped = np.repeat(y, 20)"
   ]
  },
  {
   "cell_type": "markdown",
   "id": "7388d62c-8142-441e-94ef-76b8a569aac6",
   "metadata": {},
   "source": [
    "# Dùng hàm mutual_info_regression\n",
    "# để đánh giá điểm cho các feature"
   ]
  },
  {
   "cell_type": "code",
   "execution_count": 3,
   "id": "6bafa1b4-9180-4394-94e4-e28d49a4908c",
   "metadata": {
    "tags": []
   },
   "outputs": [],
   "source": [
    "# Compute information gain for each feature\n",
    "info_gain = mutual_info_regression(X_2d, y_2d)"
   ]
  },
  {
   "cell_type": "markdown",
   "id": "5d67efc4-a942-47e1-86ab-0030c117583f",
   "metadata": {},
   "source": [
    "# Sắp xếp và lấy index của top k phần tử tốt nhất"
   ]
  },
  {
   "cell_type": "code",
   "execution_count": 25,
   "id": "f823da3a-759b-4843-8585-ba9bb1bf920b",
   "metadata": {
    "tags": []
   },
   "outputs": [],
   "source": [
    "# Sort the features based on information gain in descending order\n",
    "sorted_features_indices = np.argsort(info_gain)[::-1]\n",
    "\n",
    "# Select the top k features (adjust k as needed)\n",
    "k = 48\n",
    "selected_features_indices = sorted_features_indices[:k]"
   ]
  },
  {
   "cell_type": "code",
   "execution_count": 31,
   "id": "b89d54cb-9748-4938-8fcf-2867ba4c5927",
   "metadata": {
    "tags": []
   },
   "outputs": [],
   "source": [
    "selected_X = X[:,:,selected_features_indices]\n",
    "selected_X_test = X_test[:,:,selected_features_indices]"
   ]
  },
  {
   "cell_type": "code",
   "execution_count": 28,
   "id": "39f7a22c-66e4-4ab7-9640-be466c443ea5",
   "metadata": {
    "tags": []
   },
   "outputs": [
    {
     "name": "stdout",
     "output_type": "stream",
     "text": [
      "Model: \"sequential_4\"\n",
      "_________________________________________________________________\n",
      " Layer (type)                Output Shape              Param #   \n",
      "=================================================================\n",
      " conv2d_16 (Conv2D)          (None, 20, 48, 32)        832       \n",
      "                                                                 \n",
      " conv2d_17 (Conv2D)          (None, 20, 48, 32)        25632     \n",
      "                                                                 \n",
      " max_pooling2d_8 (MaxPoolin  (None, 10, 24, 32)        0         \n",
      " g2D)                                                            \n",
      "                                                                 \n",
      " dropout_8 (Dropout)         (None, 10, 24, 32)        0         \n",
      "                                                                 \n",
      " conv2d_18 (Conv2D)          (None, 10, 24, 64)        51264     \n",
      "                                                                 \n",
      " conv2d_19 (Conv2D)          (None, 10, 24, 64)        102464    \n",
      "                                                                 \n",
      " max_pooling2d_9 (MaxPoolin  (None, 5, 12, 64)         0         \n",
      " g2D)                                                            \n",
      "                                                                 \n",
      " flatten_4 (Flatten)         (None, 3840)              0         \n",
      "                                                                 \n",
      " dense_8 (Dense)             (None, 64)                245824    \n",
      "                                                                 \n",
      " dropout_9 (Dropout)         (None, 64)                0         \n",
      "                                                                 \n",
      " dense_9 (Dense)             (None, 5)                 325       \n",
      "                                                                 \n",
      "=================================================================\n",
      "Total params: 426341 (1.63 MB)\n",
      "Trainable params: 426341 (1.63 MB)\n",
      "Non-trainable params: 0 (0.00 Byte)\n",
      "_________________________________________________________________\n"
     ]
    }
   ],
   "source": [
    "import tensorflow as tf\n",
    "from tensorflow import keras\n",
    "from tensorflow.keras import layers\n",
    "\n",
    "# Khởi tạo mô hình\n",
    "model = keras.Sequential()\n",
    "\n",
    "# Thêm lớp Convolutional Layer với 32 bộ lọc kích thước 5x5 và hàm kích hoạt ReLU\n",
    "model.add(layers.Conv2D(32, (5, 5), activation='relu', input_shape=(20, k, 1), padding='same'))\n",
    "\n",
    "# Thêm lớp Convolutional Layer với 32 bộ lọc kích thước 5x5 và hàm kích hoạt ReLU\n",
    "model.add(layers.Conv2D(32, (5,5), activation='relu', padding='same'))\n",
    "\n",
    "# Thêm lớp Max Pooling 2D để giảm kích thước đầu vào đi 2 lần\n",
    "model.add(layers.MaxPooling2D((2, 2)))\n",
    "\n",
    "# Thêm lớp Dropout để giảm hiện tượng overfitting\n",
    "model.add(layers.Dropout(0.5))\n",
    "\n",
    "# Thêm lớp Convolutional Layer với 64 bộ lọc kích thước 3x3 và hàm kích hoạt ReLU\n",
    "model.add(layers.Conv2D(64, (5, 5), activation='relu', padding='same'))\n",
    "\n",
    "# Thêm lớp Convolutional Layer với 64 bộ lọc kích thước 3x3 và hàm kích hoạt ReLU\n",
    "model.add(layers.Conv2D(64, (5, 5), activation='relu', padding='same'))\n",
    "\n",
    "# Thêm lớp Max Pooling 2D để giảm kích thước đầu vào đi 2 lần\n",
    "model.add(layers.MaxPooling2D((2, 2)))\n",
    "\n",
    "# Thêm lớp Flatten để làm phẳng đầu ra của lớp trước khi đi vào các lớp fully connected\n",
    "model.add(layers.Flatten())\n",
    "\n",
    "# Thêm lớp fully connected (Dense Layer) với 64 units và hàm kích hoạt ReLU\n",
    "model.add(layers.Dense(64, activation='relu'))\n",
    "\n",
    "# Thêm lớp Dropout để giảm hiện tượng overfitting\n",
    "model.add(layers.Dropout(0.5))\n",
    "\n",
    "# Thêm lớp fully connected (Dense Layer) cuối cùng với số lớp đầu ra phụ thuộc vào bài toán của bạn\n",
    "model.add(layers.Dense(5, activation='softmax'))\n",
    "\n",
    "# In thông tin mô hình\n",
    "model.summary()\n",
    "\n",
    "# Biên dịch mô hình\n",
    "model.compile(optimizer='adam', loss='sparse_categorical_crossentropy', metrics=['accuracy'])\n"
   ]
  },
  {
   "cell_type": "code",
   "execution_count": 29,
   "id": "ea0d31f4-54f7-4c25-846b-5dea74e35cab",
   "metadata": {
    "tags": []
   },
   "outputs": [
    {
     "name": "stdout",
     "output_type": "stream",
     "text": [
      "Epoch 1/10\n",
      "823/823 [==============================] - 30s 33ms/step - loss: 0.9293 - accuracy: 0.6392\n",
      "Epoch 2/10\n",
      "823/823 [==============================] - 28s 34ms/step - loss: 0.5356 - accuracy: 0.8084\n",
      "Epoch 3/10\n",
      "823/823 [==============================] - 29s 35ms/step - loss: 0.4101 - accuracy: 0.8597\n",
      "Epoch 4/10\n",
      "823/823 [==============================] - 33s 41ms/step - loss: 0.3618 - accuracy: 0.8750\n",
      "Epoch 5/10\n",
      "823/823 [==============================] - 29s 35ms/step - loss: 0.3453 - accuracy: 0.8794\n",
      "Epoch 6/10\n",
      "823/823 [==============================] - 29s 35ms/step - loss: 0.3097 - accuracy: 0.8890\n",
      "Epoch 7/10\n",
      "823/823 [==============================] - 29s 36ms/step - loss: 0.3005 - accuracy: 0.8928\n",
      "Epoch 8/10\n",
      "823/823 [==============================] - 28s 34ms/step - loss: 0.2859 - accuracy: 0.8976\n",
      "Epoch 9/10\n",
      "823/823 [==============================] - 31s 37ms/step - loss: 0.2608 - accuracy: 0.9043\n",
      "Epoch 10/10\n",
      "823/823 [==============================] - 29s 35ms/step - loss: 0.2537 - accuracy: 0.9067\n"
     ]
    },
    {
     "data": {
      "text/plain": [
       "<keras.src.callbacks.History at 0x1b6451d8b10>"
      ]
     },
     "execution_count": 29,
     "metadata": {},
     "output_type": "execute_result"
    }
   ],
   "source": [
    "model.compile(optimizer='adam', loss='sparse_categorical_crossentropy', metrics=['accuracy'])\n",
    "model.fit(selected_X, y, epochs=10, batch_size=16)"
   ]
  },
  {
   "cell_type": "markdown",
   "id": "dd0647f0-fb70-4fb6-a011-6736b262ccd4",
   "metadata": {},
   "source": [
    "# Dữ liệu gốc"
   ]
  },
  {
   "cell_type": "code",
   "execution_count": 15,
   "id": "2228f01f-acd0-4f65-87c8-d9acb26d1a04",
   "metadata": {
    "tags": []
   },
   "outputs": [
    {
     "name": "stdout",
     "output_type": "stream",
     "text": [
      "412/412 [==============================] - 19s 45ms/step - loss: 0.1635 - accuracy: 0.9389\n",
      "Độ chính xác trên tập kiểm tra: 0.9388576745986938\n",
      "412/412 [==============================] - 18s 44ms/step\n",
      "Ma trận nhầm lẫn:\n",
      "[[2842    0    0    0    0]\n",
      " [   0 1955    7   31   41]\n",
      " [   0   19 2625    1  163]\n",
      " [   0  321   13 1402    4]\n",
      " [   0   14  191    0 3537]]\n",
      "Báo cáo phân loại:\n",
      "              precision    recall  f1-score   support\n",
      "\n",
      "           0       1.00      1.00      1.00      2842\n",
      "           1       0.85      0.96      0.90      2034\n",
      "           2       0.93      0.93      0.93      2808\n",
      "           3       0.98      0.81      0.88      1740\n",
      "           4       0.94      0.95      0.94      3742\n",
      "\n",
      "    accuracy                           0.94     13166\n",
      "   macro avg       0.94      0.93      0.93     13166\n",
      "weighted avg       0.94      0.94      0.94     13166\n",
      "\n"
     ]
    }
   ],
   "source": [
    "# Đánh giá mô hình trên tập kiểm tra\n",
    "test_loss, test_accuracy = model.evaluate(X_test, y_test)\n",
    "print(\"Độ chính xác trên tập kiểm tra:\", test_accuracy)\n",
    "\n",
    "# Dự đoán các nhãn trên tập kiểm tra\n",
    "y_pred = model.predict(X_test)\n",
    "\n",
    "# Chuyển đổi dự đoán thành nhãn dự đoán (lớp dự đoán)\n",
    "y_pred_classes = np.argmax(y_pred, axis=1)\n",
    "\n",
    "# Hiển thị ma trận nhầm lẫn\n",
    "from sklearn.metrics import confusion_matrix, classification_report\n",
    "confusion = confusion_matrix(y_test, y_pred_classes)\n",
    "print(\"Ma trận nhầm lẫn:\")\n",
    "print(confusion)\n",
    "\n",
    "# Hiển thị báo cáo phân loại\n",
    "class_report = classification_report(y_test, y_pred_classes)\n",
    "print(\"Báo cáo phân loại:\")\n",
    "print(class_report)"
   ]
  },
  {
   "cell_type": "markdown",
   "id": "40428aa7-8838-4bbb-b681-c4219e70760c",
   "metadata": {},
   "source": [
    "# k = 48"
   ]
  },
  {
   "cell_type": "code",
   "execution_count": 30,
   "id": "35f24b6b-0748-451e-ac68-57e25b70c875",
   "metadata": {
    "tags": []
   },
   "outputs": [
    {
     "name": "stdout",
     "output_type": "stream",
     "text": [
      "412/412 [==============================] - 9s 20ms/step - loss: 0.2049 - accuracy: 0.9197\n",
      "Độ chính xác trên tập kiểm tra: 0.9197174310684204\n",
      "412/412 [==============================] - 8s 20ms/step\n",
      "Ma trận nhầm lẫn:\n",
      "[[2841    1    0    0    0]\n",
      " [   0 1931   10   67   26]\n",
      " [   0   36 2620    3  149]\n",
      " [   0  217   11 1501   11]\n",
      " [   0   52  472    2 3216]]\n",
      "Báo cáo phân loại:\n",
      "              precision    recall  f1-score   support\n",
      "\n",
      "           0       1.00      1.00      1.00      2842\n",
      "           1       0.86      0.95      0.90      2034\n",
      "           2       0.84      0.93      0.88      2808\n",
      "           3       0.95      0.86      0.91      1740\n",
      "           4       0.95      0.86      0.90      3742\n",
      "\n",
      "    accuracy                           0.92     13166\n",
      "   macro avg       0.92      0.92      0.92     13166\n",
      "weighted avg       0.92      0.92      0.92     13166\n",
      "\n"
     ]
    }
   ],
   "source": [
    "# Đánh giá mô hình trên tập kiểm tra\n",
    "test_loss, test_accuracy = model.evaluate(selected_X_test, y_test)\n",
    "print(\"Độ chính xác trên tập kiểm tra:\", test_accuracy)\n",
    "\n",
    "# Dự đoán các nhãn trên tập kiểm tra\n",
    "y_pred = model.predict(selected_X_test)\n",
    "\n",
    "# Chuyển đổi dự đoán thành nhãn dự đoán (lớp dự đoán)\n",
    "y_pred_classes = np.argmax(y_pred, axis=1)\n",
    "\n",
    "# Hiển thị ma trận nhầm lẫn\n",
    "from sklearn.metrics import confusion_matrix, classification_report\n",
    "confusion = confusion_matrix(y_test, y_pred_classes)\n",
    "print(\"Ma trận nhầm lẫn:\")\n",
    "print(confusion)\n",
    "\n",
    "# Hiển thị báo cáo phân loại\n",
    "class_report = classification_report(y_test, y_pred_classes)\n",
    "print(\"Báo cáo phân loại:\")\n",
    "print(class_report)"
   ]
  },
  {
   "cell_type": "code",
   "execution_count": null,
   "id": "88fbffb7-8e8a-45f0-8470-6a080d786303",
   "metadata": {},
   "outputs": [],
   "source": []
  }
 ],
 "metadata": {
  "kernelspec": {
   "display_name": "Python 3 (ipykernel)",
   "language": "python",
   "name": "python3"
  },
  "language_info": {
   "codemirror_mode": {
    "name": "ipython",
    "version": 3
   },
   "file_extension": ".py",
   "mimetype": "text/x-python",
   "name": "python",
   "nbconvert_exporter": "python",
   "pygments_lexer": "ipython3",
   "version": "3.11.5"
  }
 },
 "nbformat": 4,
 "nbformat_minor": 5
}
