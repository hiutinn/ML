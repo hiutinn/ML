{
 "cells": [
  {
   "cell_type": "code",
   "execution_count": 226,
   "id": "099fd918-8599-47f1-8f8c-136394a4bc8a",
   "metadata": {
    "tags": []
   },
   "outputs": [],
   "source": [
    "%store -r X\n",
    "%store -r y\n",
    "%store -r X_test\n",
    "%store -r y_test\n",
    "%store -r feature_names"
   ]
  },
  {
   "cell_type": "code",
   "execution_count": 227,
   "id": "2d4cf5ad-37bd-48fe-9a43-5c57099918db",
   "metadata": {
    "tags": []
   },
   "outputs": [
    {
     "data": {
      "text/plain": [
       "(13166, 20, 128)"
      ]
     },
     "execution_count": 227,
     "metadata": {},
     "output_type": "execute_result"
    }
   ],
   "source": [
    "X.shape"
   ]
  },
  {
   "cell_type": "code",
   "execution_count": 228,
   "id": "6877ceeb-1d88-4b58-a57e-9d60c37f24b0",
   "metadata": {},
   "outputs": [],
   "source": [
    "import numpy as np\n",
    "import matplotlib.pyplot as plt\n",
    "from sklearn.datasets import load_diabetes\n",
    "from sklearn.feature_selection import mutual_info_regression\n",
    "\n",
    "# Load the diabetes dataset\n",
    "#data = load_diabetes()\n",
    "\n",
    "# Split the dataset into features and target\n",
    "#X = data.data\n",
    "#y = data.target\n",
    "\n",
    "X_2d = X.reshape(-1, X.shape[-1])\n",
    "y_2d = np.repeat(y, 20)"
   ]
  },
  {
   "cell_type": "code",
   "execution_count": 229,
   "id": "7893a104-5b2e-462e-9ead-1ce3e6003453",
   "metadata": {
    "tags": []
   },
   "outputs": [
    {
     "data": {
      "text/plain": [
       "(263320,)"
      ]
     },
     "execution_count": 229,
     "metadata": {},
     "output_type": "execute_result"
    }
   ],
   "source": [
    "y_2d.shape"
   ]
  },
  {
   "cell_type": "code",
   "execution_count": 230,
   "id": "6bafa1b4-9180-4394-94e4-e28d49a4908c",
   "metadata": {
    "tags": []
   },
   "outputs": [],
   "source": [
    "\n",
    "# Compute information gain for each feature\n",
    "info_gain = mutual_info_classif(X_2d, y_2d)\n"
   ]
  },
  {
   "cell_type": "code",
   "execution_count": 241,
   "id": "f823da3a-759b-4843-8585-ba9bb1bf920b",
   "metadata": {
    "tags": []
   },
   "outputs": [],
   "source": [
    "# Sort the features based on information gain in descending order\n",
    "sorted_features_indices = np.argsort(info_gain)[::-1]\n",
    "\n",
    "# Select the top k features (adjust k as needed)\n",
    "k = 64\n",
    "selected_features_indices = sorted_features_indices[:k]"
   ]
  },
  {
   "cell_type": "code",
   "execution_count": 242,
   "id": "e8860fc0-ec65-4a6f-a209-d49559ac914b",
   "metadata": {
    "tags": []
   },
   "outputs": [
    {
     "name": "stdout",
     "output_type": "stream",
     "text": [
      "Selected features: [ 12  16  17  13  15   0   1  18  19  14 117 115 122  99 123 124 112 113\n",
      "  96 121 114 120 107  89 109  83 116  82  81  98 125  84 105 108  85  88\n",
      "  69 106 101  90  76  97 104 100  74  93  92  80  67  72  68  66  91  77\n",
      "  65  75  73 119 126 118 110 127 111  86]\n"
     ]
    }
   ],
   "source": [
    "# Print the selected features\n",
    "#selected_features = X[:, selected_features_indices]\n",
    "\n",
    "# Now you can use selected_features for further analysis or modeling\n",
    "print(\"Selected features:\", selected_features_indices)"
   ]
  },
  {
   "cell_type": "code",
   "execution_count": 243,
   "id": "ec93663b-89ce-4238-ae89-a1acfc4038dc",
   "metadata": {
    "tags": []
   },
   "outputs": [
    {
     "data": {
      "text/plain": [
       "Index(['0', '1', '2', '3', '4', '5', '6', '7', '8', '9',\n",
       "       ...\n",
       "       '118', '119', '120', '121', '122', '123', '124', '125', '126', '127'],\n",
       "      dtype='object', length=128)"
      ]
     },
     "execution_count": 243,
     "metadata": {},
     "output_type": "execute_result"
    }
   ],
   "source": [
    "feature_names"
   ]
  },
  {
   "cell_type": "code",
   "execution_count": 244,
   "id": "b89d54cb-9748-4938-8fcf-2867ba4c5927",
   "metadata": {
    "tags": []
   },
   "outputs": [],
   "source": [
    "selected_X = X[:,:,selected_features_indices]"
   ]
  },
  {
   "cell_type": "code",
   "execution_count": 245,
   "id": "5ee0796f-2b1e-400e-ba01-3419d817ea3e",
   "metadata": {
    "tags": []
   },
   "outputs": [
    {
     "data": {
      "text/plain": [
       "(13166, 20, 64)"
      ]
     },
     "execution_count": 245,
     "metadata": {},
     "output_type": "execute_result"
    }
   ],
   "source": [
    "selected_X.shape"
   ]
  },
  {
   "cell_type": "code",
   "execution_count": 246,
   "id": "771b6f0b-1205-496b-a193-5cdb39769e66",
   "metadata": {
    "tags": []
   },
   "outputs": [],
   "source": [
    "selected_X_test = X_test[:,:,selected_features_indices]"
   ]
  },
  {
   "cell_type": "code",
   "execution_count": 247,
   "id": "f3ac2284-c44c-4ec8-baad-e83f7afb3a7f",
   "metadata": {
    "tags": []
   },
   "outputs": [
    {
     "data": {
      "text/plain": [
       "(13166, 20, 64)"
      ]
     },
     "execution_count": 247,
     "metadata": {},
     "output_type": "execute_result"
    }
   ],
   "source": [
    "selected_X_test.shape"
   ]
  },
  {
   "cell_type": "code",
   "execution_count": 251,
   "id": "39f7a22c-66e4-4ab7-9640-be466c443ea5",
   "metadata": {
    "tags": []
   },
   "outputs": [
    {
     "name": "stdout",
     "output_type": "stream",
     "text": [
      "Model: \"sequential_27\"\n",
      "_________________________________________________________________\n",
      " Layer (type)                Output Shape              Param #   \n",
      "=================================================================\n",
      " conv2d_104 (Conv2D)         (None, 20, 128, 32)       832       \n",
      "                                                                 \n",
      " conv2d_105 (Conv2D)         (None, 20, 128, 32)       25632     \n",
      "                                                                 \n",
      " max_pooling2d_52 (MaxPooli  (None, 10, 64, 32)        0         \n",
      " ng2D)                                                           \n",
      "                                                                 \n",
      " dropout_52 (Dropout)        (None, 10, 64, 32)        0         \n",
      "                                                                 \n",
      " conv2d_106 (Conv2D)         (None, 10, 64, 64)        51264     \n",
      "                                                                 \n",
      " conv2d_107 (Conv2D)         (None, 10, 64, 64)        102464    \n",
      "                                                                 \n",
      " max_pooling2d_53 (MaxPooli  (None, 5, 32, 64)         0         \n",
      " ng2D)                                                           \n",
      "                                                                 \n",
      " flatten_27 (Flatten)        (None, 10240)             0         \n",
      "                                                                 \n",
      " dense_54 (Dense)            (None, 64)                655424    \n",
      "                                                                 \n",
      " dropout_53 (Dropout)        (None, 64)                0         \n",
      "                                                                 \n",
      " dense_55 (Dense)            (None, 5)                 325       \n",
      "                                                                 \n",
      "=================================================================\n",
      "Total params: 835941 (3.19 MB)\n",
      "Trainable params: 835941 (3.19 MB)\n",
      "Non-trainable params: 0 (0.00 Byte)\n",
      "_________________________________________________________________\n"
     ]
    }
   ],
   "source": [
    "import tensorflow as tf\n",
    "from tensorflow import keras\n",
    "from tensorflow.keras import layers\n",
    "\n",
    "# Khởi tạo mô hình\n",
    "model = keras.Sequential()\n",
    "\n",
    "# Thêm lớp Convolutional Layer với 32 bộ lọc kích thước 5x5 và hàm kích hoạt ReLU\n",
    "model.add(layers.Conv2D(32, (5, 5), activation='relu', input_shape=(20, 128, 1), padding='same'))\n",
    "\n",
    "# Thêm lớp Convolutional Layer với 32 bộ lọc kích thước 5x5 và hàm kích hoạt ReLU\n",
    "model.add(layers.Conv2D(32, (5,5), activation='relu', padding='same'))\n",
    "\n",
    "# Thêm lớp Max Pooling 2D để giảm kích thước đầu vào đi 2 lần\n",
    "model.add(layers.MaxPooling2D((2, 2)))\n",
    "\n",
    "# Thêm lớp Dropout để giảm hiện tượng overfitting\n",
    "model.add(layers.Dropout(0.5))\n",
    "\n",
    "# Thêm lớp Convolutional Layer với 64 bộ lọc kích thước 3x3 và hàm kích hoạt ReLU\n",
    "model.add(layers.Conv2D(64, (5, 5), activation='relu', padding='same'))\n",
    "\n",
    "# Thêm lớp Convolutional Layer với 64 bộ lọc kích thước 3x3 và hàm kích hoạt ReLU\n",
    "model.add(layers.Conv2D(64, (5, 5), activation='relu', padding='same'))\n",
    "\n",
    "# Thêm lớp Max Pooling 2D để giảm kích thước đầu vào đi 2 lần\n",
    "model.add(layers.MaxPooling2D((2, 2)))\n",
    "\n",
    "# Thêm lớp Flatten để làm phẳng đầu ra của lớp trước khi đi vào các lớp fully connected\n",
    "model.add(layers.Flatten())\n",
    "\n",
    "# Thêm lớp fully connected (Dense Layer) với 64 units và hàm kích hoạt ReLU\n",
    "model.add(layers.Dense(64, activation='relu'))\n",
    "\n",
    "# Thêm lớp Dropout để giảm hiện tượng overfitting\n",
    "model.add(layers.Dropout(0.5))\n",
    "\n",
    "# Thêm lớp fully connected (Dense Layer) cuối cùng với số lớp đầu ra phụ thuộc vào bài toán của bạn\n",
    "model.add(layers.Dense(5, activation='softmax'))\n",
    "\n",
    "# In thông tin mô hình\n",
    "model.summary()\n",
    "\n",
    "# Biên dịch mô hình\n",
    "model.compile(optimizer='adam', loss='sparse_categorical_crossentropy', metrics=['accuracy'])\n"
   ]
  },
  {
   "cell_type": "code",
   "execution_count": null,
   "id": "ea0d31f4-54f7-4c25-846b-5dea74e35cab",
   "metadata": {
    "tags": []
   },
   "outputs": [
    {
     "name": "stdout",
     "output_type": "stream",
     "text": [
      "Epoch 1/10\n",
      "823/823 [==============================] - 65s 78ms/step - loss: 0.8001 - accuracy: 0.6914\n",
      "Epoch 2/10\n",
      "823/823 [==============================] - 68s 83ms/step - loss: 0.4433 - accuracy: 0.8322\n",
      "Epoch 3/10\n",
      "823/823 [==============================] - 69s 84ms/step - loss: 0.3865 - accuracy: 0.8569\n",
      "Epoch 4/10\n",
      "823/823 [==============================] - 65s 79ms/step - loss: 0.3500 - accuracy: 0.8628\n",
      "Epoch 5/10\n",
      "823/823 [==============================] - 66s 81ms/step - loss: 0.3337 - accuracy: 0.8719\n",
      "Epoch 6/10\n",
      "823/823 [==============================] - 69s 84ms/step - loss: 0.3158 - accuracy: 0.8735\n",
      "Epoch 7/10\n",
      "411/823 [=============>................] - ETA: 34s - loss: 0.3126 - accuracy: 0.8776"
     ]
    }
   ],
   "source": [
    "model.compile(optimizer='adam', loss='sparse_categorical_crossentropy', metrics=['accuracy'])\n",
    "model.fit(X, y, epochs=10, batch_size=16)"
   ]
  },
  {
   "cell_type": "markdown",
   "id": "dd0647f0-fb70-4fb6-a011-6736b262ccd4",
   "metadata": {},
   "source": [
    "# Dữ liệu gốc"
   ]
  },
  {
   "cell_type": "code",
   "execution_count": 119,
   "id": "2228f01f-acd0-4f65-87c8-d9acb26d1a04",
   "metadata": {
    "tags": []
   },
   "outputs": [
    {
     "name": "stdout",
     "output_type": "stream",
     "text": [
      "412/412 [==============================] - 15s 37ms/step - loss: 0.2439 - accuracy: 0.9064\n",
      "Độ chính xác trên tập kiểm tra: 0.9064256548881531\n",
      "412/412 [==============================] - 17s 40ms/step\n",
      "Ma trận nhầm lẫn:\n",
      "[[2842    0    0    0    0]\n",
      " [   3 1990    9    1   31]\n",
      " [   0   25 2288    0  495]\n",
      " [   1  444   14 1278    3]\n",
      " [   0   44  162    0 3536]]\n",
      "Báo cáo phân loại:\n",
      "              precision    recall  f1-score   support\n",
      "\n",
      "           0       1.00      1.00      1.00      2842\n",
      "           1       0.80      0.98      0.88      2034\n",
      "           2       0.93      0.81      0.87      2808\n",
      "           3       1.00      0.73      0.85      1740\n",
      "           4       0.87      0.94      0.91      3742\n",
      "\n",
      "    accuracy                           0.91     13166\n",
      "   macro avg       0.92      0.89      0.90     13166\n",
      "weighted avg       0.91      0.91      0.91     13166\n",
      "\n"
     ]
    }
   ],
   "source": [
    "# Đánh giá mô hình trên tập kiểm tra\n",
    "test_loss, test_accuracy = model.evaluate(X_test, y_test)\n",
    "print(\"Độ chính xác trên tập kiểm tra:\", test_accuracy)\n",
    "\n",
    "# Dự đoán các nhãn trên tập kiểm tra\n",
    "y_pred = model.predict(X_test)\n",
    "\n",
    "# Chuyển đổi dự đoán thành nhãn dự đoán (lớp dự đoán)\n",
    "y_pred_classes = np.argmax(y_pred, axis=1)\n",
    "\n",
    "# Hiển thị ma trận nhầm lẫn\n",
    "from sklearn.metrics import confusion_matrix, classification_report\n",
    "confusion = confusion_matrix(y_test, y_pred_classes)\n",
    "print(\"Ma trận nhầm lẫn:\")\n",
    "print(confusion)\n",
    "\n",
    "# Hiển thị báo cáo phân loại\n",
    "class_report = classification_report(y_test, y_pred_classes)\n",
    "print(\"Báo cáo phân loại:\")\n",
    "print(class_report)"
   ]
  },
  {
   "cell_type": "markdown",
   "id": "0d9c5492-505f-4af5-a752-e57983d1f555",
   "metadata": {},
   "source": [
    "# K = 128"
   ]
  },
  {
   "cell_type": "code",
   "execution_count": 105,
   "id": "f4efb311-eb2e-4632-b6b5-5f10c7a063c8",
   "metadata": {
    "tags": []
   },
   "outputs": [
    {
     "name": "stdout",
     "output_type": "stream",
     "text": [
      "412/412 [==============================] - 18s 43ms/step - loss: 0.2621 - accuracy: 0.9110\n",
      "Độ chính xác trên tập kiểm tra: 0.9109828472137451\n",
      "412/412 [==============================] - 18s 43ms/step\n",
      "Ma trận nhầm lẫn:\n",
      "[[2842    0    0    0    0]\n",
      " [   0 2002   12    0   20]\n",
      " [   0   50 2498    1  259]\n",
      " [   0  437   17 1275   11]\n",
      " [   0   78  287    0 3377]]\n",
      "Báo cáo phân loại:\n",
      "              precision    recall  f1-score   support\n",
      "\n",
      "           0       1.00      1.00      1.00      2842\n",
      "           1       0.78      0.98      0.87      2034\n",
      "           2       0.89      0.89      0.89      2808\n",
      "           3       1.00      0.73      0.85      1740\n",
      "           4       0.92      0.90      0.91      3742\n",
      "\n",
      "    accuracy                           0.91     13166\n",
      "   macro avg       0.92      0.90      0.90     13166\n",
      "weighted avg       0.92      0.91      0.91     13166\n",
      "\n"
     ]
    }
   ],
   "source": [
    "# Đánh giá mô hình trên tập kiểm tra\n",
    "test_loss, test_accuracy = model.evaluate(selected_X_test, y_test)\n",
    "print(\"Độ chính xác trên tập kiểm tra:\", test_accuracy)\n",
    "\n",
    "# Dự đoán các nhãn trên tập kiểm tra\n",
    "y_pred = model.predict(selected_X_test)\n",
    "\n",
    "# Chuyển đổi dự đoán thành nhãn dự đoán (lớp dự đoán)\n",
    "y_pred_classes = np.argmax(y_pred, axis=1)\n",
    "\n",
    "# Hiển thị ma trận nhầm lẫn\n",
    "from sklearn.metrics import confusion_matrix, classification_report\n",
    "confusion = confusion_matrix(y_test, y_pred_classes)\n",
    "print(\"Ma trận nhầm lẫn:\")\n",
    "print(confusion)\n",
    "\n",
    "# Hiển thị báo cáo phân loại\n",
    "class_report = classification_report(y_test, y_pred_classes)\n",
    "print(\"Báo cáo phân loại:\")\n",
    "print(class_report)"
   ]
  },
  {
   "cell_type": "markdown",
   "id": "6ca4722d-694c-41fc-9c95-0d2281400c87",
   "metadata": {},
   "source": [
    "# k = 64"
   ]
  },
  {
   "cell_type": "code",
   "execution_count": 250,
   "id": "5981c746-38ab-41d6-908d-a9337af3d0c4",
   "metadata": {
    "tags": []
   },
   "outputs": [
    {
     "name": "stdout",
     "output_type": "stream",
     "text": [
      "412/412 [==============================] - 10s 23ms/step - loss: 0.1959 - accuracy: 0.9265\n",
      "Độ chính xác trên tập kiểm tra: 0.926477313041687\n",
      "412/412 [==============================] - 10s 23ms/step\n",
      "Ma trận nhầm lẫn:\n",
      "[[2842    0    0    0    0]\n",
      " [   6 1970   16   16   26]\n",
      " [   1   20 2624    7  156]\n",
      " [   6  339   14 1377    4]\n",
      " [   1   54  298    4 3385]]\n",
      "Báo cáo phân loại:\n",
      "              precision    recall  f1-score   support\n",
      "\n",
      "           0       1.00      1.00      1.00      2842\n",
      "           1       0.83      0.97      0.89      2034\n",
      "           2       0.89      0.93      0.91      2808\n",
      "           3       0.98      0.79      0.88      1740\n",
      "           4       0.95      0.90      0.93      3742\n",
      "\n",
      "    accuracy                           0.93     13166\n",
      "   macro avg       0.93      0.92      0.92     13166\n",
      "weighted avg       0.93      0.93      0.93     13166\n",
      "\n"
     ]
    }
   ],
   "source": [
    "# Đánh giá mô hình trên tập kiểm tra\n",
    "test_loss, test_accuracy = model.evaluate(selected_X_test, y_test)\n",
    "print(\"Độ chính xác trên tập kiểm tra:\", test_accuracy)\n",
    "\n",
    "# Dự đoán các nhãn trên tập kiểm tra\n",
    "y_pred = model.predict(selected_X_test)\n",
    "\n",
    "# Chuyển đổi dự đoán thành nhãn dự đoán (lớp dự đoán)\n",
    "y_pred_classes = np.argmax(y_pred, axis=1)\n",
    "\n",
    "# Hiển thị ma trận nhầm lẫn\n",
    "from sklearn.metrics import confusion_matrix, classification_report\n",
    "confusion = confusion_matrix(y_test, y_pred_classes)\n",
    "print(\"Ma trận nhầm lẫn:\")\n",
    "print(confusion)\n",
    "\n",
    "# Hiển thị báo cáo phân loại\n",
    "class_report = classification_report(y_test, y_pred_classes)\n",
    "print(\"Báo cáo phân loại:\")\n",
    "print(class_report)"
   ]
  },
  {
   "cell_type": "markdown",
   "id": "54e81fdd-b082-4f17-b60e-f6cfefd450ab",
   "metadata": {},
   "source": [
    "# k = 32"
   ]
  },
  {
   "cell_type": "code",
   "execution_count": 240,
   "id": "12f1b3e5-d9c3-485d-b4a9-2063f9a9c94a",
   "metadata": {
    "tags": []
   },
   "outputs": [
    {
     "name": "stdout",
     "output_type": "stream",
     "text": [
      "412/412 [==============================] - 6s 13ms/step - loss: 0.2186 - accuracy: 0.9107\n",
      "Độ chính xác trên tập kiểm tra: 0.910679042339325\n",
      "412/412 [==============================] - 6s 13ms/step\n",
      "Ma trận nhầm lẫn:\n",
      "[[2842    0    0    0    0]\n",
      " [   1 1968   15   16   34]\n",
      " [   0   26 2543    6  233]\n",
      " [   0  400    9 1324    7]\n",
      " [   0   46  383    0 3313]]\n",
      "Báo cáo phân loại:\n",
      "              precision    recall  f1-score   support\n",
      "\n",
      "           0       1.00      1.00      1.00      2842\n",
      "           1       0.81      0.97      0.88      2034\n",
      "           2       0.86      0.91      0.88      2808\n",
      "           3       0.98      0.76      0.86      1740\n",
      "           4       0.92      0.89      0.90      3742\n",
      "\n",
      "    accuracy                           0.91     13166\n",
      "   macro avg       0.92      0.90      0.91     13166\n",
      "weighted avg       0.92      0.91      0.91     13166\n",
      "\n"
     ]
    }
   ],
   "source": [
    "# Đánh giá mô hình trên tập kiểm tra\n",
    "test_loss, test_accuracy = model.evaluate(selected_X_test, y_test)\n",
    "print(\"Độ chính xác trên tập kiểm tra:\", test_accuracy)\n",
    "\n",
    "# Dự đoán các nhãn trên tập kiểm tra\n",
    "y_pred = model.predict(selected_X_test)\n",
    "\n",
    "# Chuyển đổi dự đoán thành nhãn dự đoán (lớp dự đoán)\n",
    "y_pred_classes = np.argmax(y_pred, axis=1)\n",
    "\n",
    "# Hiển thị ma trận nhầm lẫn\n",
    "from sklearn.metrics import confusion_matrix, classification_report\n",
    "confusion = confusion_matrix(y_test, y_pred_classes)\n",
    "print(\"Ma trận nhầm lẫn:\")\n",
    "print(confusion)\n",
    "\n",
    "# Hiển thị báo cáo phân loại\n",
    "class_report = classification_report(y_test, y_pred_classes)\n",
    "print(\"Báo cáo phân loại:\")\n",
    "print(class_report)"
   ]
  },
  {
   "cell_type": "markdown",
   "id": "e26acac1-c896-4962-a8ec-fd35c1907213",
   "metadata": {},
   "source": [
    "# k = 16"
   ]
  },
  {
   "cell_type": "code",
   "execution_count": 142,
   "id": "d261af3c-5d2e-4a62-b90e-f1ff0da5c4fd",
   "metadata": {
    "tags": []
   },
   "outputs": [
    {
     "name": "stdout",
     "output_type": "stream",
     "text": [
      "412/412 [==============================] - 4s 9ms/step - loss: 0.2174 - accuracy: 0.9199\n",
      "Độ chính xác trên tập kiểm tra: 0.9199452996253967\n",
      "412/412 [==============================] - 4s 8ms/step\n",
      "Ma trận nhầm lẫn:\n",
      "[[2842    0    0    0    0]\n",
      " [   1 1958   22    9   44]\n",
      " [   0    5 2664    1  138]\n",
      " [   3  355   11 1362    9]\n",
      " [   0   16  436    4 3286]]\n",
      "Báo cáo phân loại:\n",
      "              precision    recall  f1-score   support\n",
      "\n",
      "           0       1.00      1.00      1.00      2842\n",
      "           1       0.84      0.96      0.90      2034\n",
      "           2       0.85      0.95      0.90      2808\n",
      "           3       0.99      0.78      0.87      1740\n",
      "           4       0.95      0.88      0.91      3742\n",
      "\n",
      "    accuracy                           0.92     13166\n",
      "   macro avg       0.92      0.91      0.92     13166\n",
      "weighted avg       0.93      0.92      0.92     13166\n",
      "\n"
     ]
    }
   ],
   "source": [
    "# Đánh giá mô hình trên tập kiểm tra\n",
    "test_loss, test_accuracy = model.evaluate(selected_X_test, y_test)\n",
    "print(\"Độ chính xác trên tập kiểm tra:\", test_accuracy)\n",
    "\n",
    "# Dự đoán các nhãn trên tập kiểm tra\n",
    "y_pred = model.predict(selected_X_test)\n",
    "\n",
    "# Chuyển đổi dự đoán thành nhãn dự đoán (lớp dự đoán)\n",
    "y_pred_classes = np.argmax(y_pred, axis=1)\n",
    "\n",
    "# Hiển thị ma trận nhầm lẫn\n",
    "from sklearn.metrics import confusion_matrix, classification_report\n",
    "confusion = confusion_matrix(y_test, y_pred_classes)\n",
    "print(\"Ma trận nhầm lẫn:\")\n",
    "print(confusion)\n",
    "\n",
    "# Hiển thị báo cáo phân loại\n",
    "class_report = classification_report(y_test, y_pred_classes)\n",
    "print(\"Báo cáo phân loại:\")\n",
    "print(class_report)"
   ]
  },
  {
   "cell_type": "markdown",
   "id": "639acad1-4a7e-4b9b-97df-4510420710d9",
   "metadata": {},
   "source": [
    "# k = 8"
   ]
  },
  {
   "cell_type": "code",
   "execution_count": 153,
   "id": "b3803f2d-d205-40f9-b37a-279d88a6c8ce",
   "metadata": {
    "tags": []
   },
   "outputs": [
    {
     "name": "stdout",
     "output_type": "stream",
     "text": [
      "412/412 [==============================] - 3s 6ms/step - loss: 0.5418 - accuracy: 0.7365\n",
      "Độ chính xác trên tập kiểm tra: 0.7365183234214783\n",
      "412/412 [==============================] - 3s 6ms/step\n",
      "Ma trận nhầm lẫn:\n",
      "[[2842    0    0    0    0]\n",
      " [   3 1822    8    0  201]\n",
      " [   0  141  121    0 2546]\n",
      " [   9  417    4 1292   18]\n",
      " [   0   93   29    0 3620]]\n",
      "Báo cáo phân loại:\n",
      "              precision    recall  f1-score   support\n",
      "\n",
      "           0       1.00      1.00      1.00      2842\n",
      "           1       0.74      0.90      0.81      2034\n",
      "           2       0.75      0.04      0.08      2808\n",
      "           3       1.00      0.74      0.85      1740\n",
      "           4       0.57      0.97      0.71      3742\n",
      "\n",
      "    accuracy                           0.74     13166\n",
      "   macro avg       0.81      0.73      0.69     13166\n",
      "weighted avg       0.78      0.74      0.67     13166\n",
      "\n"
     ]
    }
   ],
   "source": [
    "# Đánh giá mô hình trên tập kiểm tra\n",
    "test_loss, test_accuracy = model.evaluate(selected_X_test, y_test)\n",
    "print(\"Độ chính xác trên tập kiểm tra:\", test_accuracy)\n",
    "\n",
    "# Dự đoán các nhãn trên tập kiểm tra\n",
    "y_pred = model.predict(selected_X_test)\n",
    "\n",
    "# Chuyển đổi dự đoán thành nhãn dự đoán (lớp dự đoán)\n",
    "y_pred_classes = np.argmax(y_pred, axis=1)\n",
    "\n",
    "# Hiển thị ma trận nhầm lẫn\n",
    "from sklearn.metrics import confusion_matrix, classification_report\n",
    "confusion = confusion_matrix(y_test, y_pred_classes)\n",
    "print(\"Ma trận nhầm lẫn:\")\n",
    "print(confusion)\n",
    "\n",
    "# Hiển thị báo cáo phân loại\n",
    "class_report = classification_report(y_test, y_pred_classes)\n",
    "print(\"Báo cáo phân loại:\")\n",
    "print(class_report)"
   ]
  },
  {
   "cell_type": "markdown",
   "id": "40428aa7-8838-4bbb-b681-c4219e70760c",
   "metadata": {},
   "source": [
    "# k = 48"
   ]
  },
  {
   "cell_type": "code",
   "execution_count": 215,
   "id": "35f24b6b-0748-451e-ac68-57e25b70c875",
   "metadata": {
    "tags": []
   },
   "outputs": [
    {
     "name": "stdout",
     "output_type": "stream",
     "text": [
      "412/412 [==============================] - 7s 18ms/step - loss: 0.2241 - accuracy: 0.9119\n",
      "Độ chính xác trên tập kiểm tra: 0.9118942618370056\n",
      "412/412 [==============================] - 8s 19ms/step\n",
      "Ma trận nhầm lẫn:\n",
      "[[2842    0    0    0    0]\n",
      " [   1 1984   15    0   34]\n",
      " [   0   21 2540    1  246]\n",
      " [   3  417   27 1284    9]\n",
      " [   1   32  353    0 3356]]\n",
      "Báo cáo phân loại:\n",
      "              precision    recall  f1-score   support\n",
      "\n",
      "           0       1.00      1.00      1.00      2842\n",
      "           1       0.81      0.98      0.88      2034\n",
      "           2       0.87      0.90      0.88      2808\n",
      "           3       1.00      0.74      0.85      1740\n",
      "           4       0.92      0.90      0.91      3742\n",
      "\n",
      "    accuracy                           0.91     13166\n",
      "   macro avg       0.92      0.90      0.91     13166\n",
      "weighted avg       0.92      0.91      0.91     13166\n",
      "\n"
     ]
    }
   ],
   "source": [
    "# Đánh giá mô hình trên tập kiểm tra\n",
    "test_loss, test_accuracy = model.evaluate(selected_X_test, y_test)\n",
    "print(\"Độ chính xác trên tập kiểm tra:\", test_accuracy)\n",
    "\n",
    "# Dự đoán các nhãn trên tập kiểm tra\n",
    "y_pred = model.predict(selected_X_test)\n",
    "\n",
    "# Chuyển đổi dự đoán thành nhãn dự đoán (lớp dự đoán)\n",
    "y_pred_classes = np.argmax(y_pred, axis=1)\n",
    "\n",
    "# Hiển thị ma trận nhầm lẫn\n",
    "from sklearn.metrics import confusion_matrix, classification_report\n",
    "confusion = confusion_matrix(y_test, y_pred_classes)\n",
    "print(\"Ma trận nhầm lẫn:\")\n",
    "print(confusion)\n",
    "\n",
    "# Hiển thị báo cáo phân loại\n",
    "class_report = classification_report(y_test, y_pred_classes)\n",
    "print(\"Báo cáo phân loại:\")\n",
    "print(class_report)"
   ]
  },
  {
   "cell_type": "code",
   "execution_count": null,
   "id": "88fbffb7-8e8a-45f0-8470-6a080d786303",
   "metadata": {},
   "outputs": [],
   "source": []
  }
 ],
 "metadata": {
  "kernelspec": {
   "display_name": "Python 3 (ipykernel)",
   "language": "python",
   "name": "python3"
  },
  "language_info": {
   "codemirror_mode": {
    "name": "ipython",
    "version": 3
   },
   "file_extension": ".py",
   "mimetype": "text/x-python",
   "name": "python",
   "nbconvert_exporter": "python",
   "pygments_lexer": "ipython3",
   "version": "3.11.5"
  }
 },
 "nbformat": 4,
 "nbformat_minor": 5
}
