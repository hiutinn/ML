{
 "cells": [
  {
   "cell_type": "code",
   "execution_count": 1,
   "id": "830ed934-4284-4182-8cee-632a24ccd993",
   "metadata": {
    "tags": []
   },
   "outputs": [],
   "source": [
    "%store -r X\n",
    "%store -r y\n",
    "%store -r X_test\n",
    "%store -r y_test\n",
    "%store -r feature_names"
   ]
  },
  {
   "cell_type": "code",
   "execution_count": 2,
   "id": "510bd9da-a3a3-4ccd-9f79-fbb41f4d9a1b",
   "metadata": {
    "tags": []
   },
   "outputs": [],
   "source": [
    "# Import thư viện\n",
    "import numpy as np\n",
    "import pandas as pd\n",
    "from sklearn.ensemble import RandomForestClassifier"
   ]
  },
  {
   "cell_type": "code",
   "execution_count": 6,
   "id": "2b73fd2c-feaa-46c0-af55-0dee95fb674e",
   "metadata": {
    "tags": []
   },
   "outputs": [],
   "source": [
    "import matplotlib.pyplot as plt\n",
    "\n",
    "# Reshape data\n",
    "X_2d = X.reshape(-1, X.shape[-1])\n",
    "y_reshaped = np.repeat(y, 20)"
   ]
  },
  {
   "cell_type": "code",
   "execution_count": 3,
   "id": "8f1a0275-30e1-4cf8-9e0b-ffe81b73f8ff",
   "metadata": {
    "tags": []
   },
   "outputs": [],
   "source": [
    "# Khởi tạo mô hình Random Forest\n",
    "model = RandomForestClassifier(n_estimators=500)"
   ]
  },
  {
   "cell_type": "code",
   "execution_count": 8,
   "id": "33d77392-78a6-4340-b138-ed5669fd4125",
   "metadata": {
    "tags": []
   },
   "outputs": [
    {
     "data": {
      "text/html": [
       "<style>#sk-container-id-1 {color: black;}#sk-container-id-1 pre{padding: 0;}#sk-container-id-1 div.sk-toggleable {background-color: white;}#sk-container-id-1 label.sk-toggleable__label {cursor: pointer;display: block;width: 100%;margin-bottom: 0;padding: 0.3em;box-sizing: border-box;text-align: center;}#sk-container-id-1 label.sk-toggleable__label-arrow:before {content: \"▸\";float: left;margin-right: 0.25em;color: #696969;}#sk-container-id-1 label.sk-toggleable__label-arrow:hover:before {color: black;}#sk-container-id-1 div.sk-estimator:hover label.sk-toggleable__label-arrow:before {color: black;}#sk-container-id-1 div.sk-toggleable__content {max-height: 0;max-width: 0;overflow: hidden;text-align: left;background-color: #f0f8ff;}#sk-container-id-1 div.sk-toggleable__content pre {margin: 0.2em;color: black;border-radius: 0.25em;background-color: #f0f8ff;}#sk-container-id-1 input.sk-toggleable__control:checked~div.sk-toggleable__content {max-height: 200px;max-width: 100%;overflow: auto;}#sk-container-id-1 input.sk-toggleable__control:checked~label.sk-toggleable__label-arrow:before {content: \"▾\";}#sk-container-id-1 div.sk-estimator input.sk-toggleable__control:checked~label.sk-toggleable__label {background-color: #d4ebff;}#sk-container-id-1 div.sk-label input.sk-toggleable__control:checked~label.sk-toggleable__label {background-color: #d4ebff;}#sk-container-id-1 input.sk-hidden--visually {border: 0;clip: rect(1px 1px 1px 1px);clip: rect(1px, 1px, 1px, 1px);height: 1px;margin: -1px;overflow: hidden;padding: 0;position: absolute;width: 1px;}#sk-container-id-1 div.sk-estimator {font-family: monospace;background-color: #f0f8ff;border: 1px dotted black;border-radius: 0.25em;box-sizing: border-box;margin-bottom: 0.5em;}#sk-container-id-1 div.sk-estimator:hover {background-color: #d4ebff;}#sk-container-id-1 div.sk-parallel-item::after {content: \"\";width: 100%;border-bottom: 1px solid gray;flex-grow: 1;}#sk-container-id-1 div.sk-label:hover label.sk-toggleable__label {background-color: #d4ebff;}#sk-container-id-1 div.sk-serial::before {content: \"\";position: absolute;border-left: 1px solid gray;box-sizing: border-box;top: 0;bottom: 0;left: 50%;z-index: 0;}#sk-container-id-1 div.sk-serial {display: flex;flex-direction: column;align-items: center;background-color: white;padding-right: 0.2em;padding-left: 0.2em;position: relative;}#sk-container-id-1 div.sk-item {position: relative;z-index: 1;}#sk-container-id-1 div.sk-parallel {display: flex;align-items: stretch;justify-content: center;background-color: white;position: relative;}#sk-container-id-1 div.sk-item::before, #sk-container-id-1 div.sk-parallel-item::before {content: \"\";position: absolute;border-left: 1px solid gray;box-sizing: border-box;top: 0;bottom: 0;left: 50%;z-index: -1;}#sk-container-id-1 div.sk-parallel-item {display: flex;flex-direction: column;z-index: 1;position: relative;background-color: white;}#sk-container-id-1 div.sk-parallel-item:first-child::after {align-self: flex-end;width: 50%;}#sk-container-id-1 div.sk-parallel-item:last-child::after {align-self: flex-start;width: 50%;}#sk-container-id-1 div.sk-parallel-item:only-child::after {width: 0;}#sk-container-id-1 div.sk-dashed-wrapped {border: 1px dashed gray;margin: 0 0.4em 0.5em 0.4em;box-sizing: border-box;padding-bottom: 0.4em;background-color: white;}#sk-container-id-1 div.sk-label label {font-family: monospace;font-weight: bold;display: inline-block;line-height: 1.2em;}#sk-container-id-1 div.sk-label-container {text-align: center;}#sk-container-id-1 div.sk-container {/* jupyter's `normalize.less` sets `[hidden] { display: none; }` but bootstrap.min.css set `[hidden] { display: none !important; }` so we also need the `!important` here to be able to override the default hidden behavior on the sphinx rendered scikit-learn.org. See: https://github.com/scikit-learn/scikit-learn/issues/21755 */display: inline-block !important;position: relative;}#sk-container-id-1 div.sk-text-repr-fallback {display: none;}</style><div id=\"sk-container-id-1\" class=\"sk-top-container\"><div class=\"sk-text-repr-fallback\"><pre>RandomForestClassifier(n_estimators=500)</pre><b>In a Jupyter environment, please rerun this cell to show the HTML representation or trust the notebook. <br />On GitHub, the HTML representation is unable to render, please try loading this page with nbviewer.org.</b></div><div class=\"sk-container\" hidden><div class=\"sk-item\"><div class=\"sk-estimator sk-toggleable\"><input class=\"sk-toggleable__control sk-hidden--visually\" id=\"sk-estimator-id-1\" type=\"checkbox\" checked><label for=\"sk-estimator-id-1\" class=\"sk-toggleable__label sk-toggleable__label-arrow\">RandomForestClassifier</label><div class=\"sk-toggleable__content\"><pre>RandomForestClassifier(n_estimators=500)</pre></div></div></div></div></div>"
      ],
      "text/plain": [
       "RandomForestClassifier(n_estimators=500)"
      ]
     },
     "execution_count": 8,
     "metadata": {},
     "output_type": "execute_result"
    }
   ],
   "source": [
    "# Huấn luyện mô hình\n",
    "model.fit(X_2d, y_reshaped)"
   ]
  },
  {
   "cell_type": "code",
   "execution_count": 16,
   "id": "b769031a-2762-4a93-800f-46a1bddaf40e",
   "metadata": {
    "tags": []
   },
   "outputs": [
    {
     "name": "stdout",
     "output_type": "stream",
     "text": [
      "[0.0168231  0.01337182 0.01361942 0.01287509 0.01308673 0.01310984\n",
      " 0.01276929 0.01293364 0.01289002 0.01313857 0.01284673 0.01256\n",
      " 0.01861947 0.03121628 0.03185601 0.03071387 0.02569574 0.03551281\n",
      " 0.02466086 0.02561488 0.01566451 0.01973423 0.01680158 0.01857894\n",
      " 0.01543495 0.0142625  0.0144854  0.01754146 0.01190706 0.00905048\n",
      " 0.00827862 0.00525087 0.00565982 0.00500901 0.00451929 0.00529244\n",
      " 0.00437504 0.00453529 0.00479812 0.00478078 0.00530414 0.00423907\n",
      " 0.00464233 0.00515296 0.0043075  0.00372196 0.00418003 0.00441325\n",
      " 0.00436903 0.0047341  0.00376127 0.00483213 0.00614055 0.00543121\n",
      " 0.00460828 0.00548553 0.00552376 0.00702607 0.00536946 0.00560104\n",
      " 0.00807187 0.00680806 0.00626111 0.00607045 0.00453224 0.00483975\n",
      " 0.0049     0.00464451 0.00417736 0.00507687 0.00453521 0.00506228\n",
      " 0.00452566 0.00510815 0.00520481 0.00418501 0.00417109 0.00459659\n",
      " 0.00550797 0.00609291 0.0053817  0.00529723 0.00499456 0.00525272\n",
      " 0.00485918 0.00465502 0.00381869 0.00381835 0.00348474 0.00370746\n",
      " 0.00364851 0.00390153 0.0042626  0.00408119 0.00435571 0.00417604\n",
      " 0.00381221 0.0040052  0.0051063  0.00388366 0.00381552 0.00467053\n",
      " 0.00408759 0.00404988 0.00382956 0.00443915 0.00351176 0.0036323\n",
      " 0.00427211 0.00378719 0.00440813 0.00421971 0.00371691 0.0037879\n",
      " 0.0036752  0.00378924 0.00399859 0.00448282 0.00487412 0.00477902\n",
      " 0.00432832 0.00458833 0.00476681 0.00458679 0.00568261 0.00508199\n",
      " 0.00489425 0.00465096]\n"
     ]
    }
   ],
   "source": [
    "# Lấy tầm quan trọng của đặc trưng\n",
    "feature_importances = model.feature_importances_\n",
    "\n",
    "# In tầm quan trọng của đặc trưng\n",
    "print(feature_importances)"
   ]
  },
  {
   "cell_type": "code",
   "execution_count": 50,
   "id": "4f85046b-8cde-4f61-bc14-a8a23e3a43b1",
   "metadata": {
    "tags": []
   },
   "outputs": [
    {
     "data": {
      "text/plain": [
       "(128,)"
      ]
     },
     "execution_count": 50,
     "metadata": {},
     "output_type": "execute_result"
    }
   ],
   "source": [
    "feature_importances.shape"
   ]
  },
  {
   "cell_type": "code",
   "execution_count": 44,
   "id": "21b61bcd-3b32-4ed2-b69e-9bb4d54f445b",
   "metadata": {
    "tags": []
   },
   "outputs": [
    {
     "name": "stdout",
     "output_type": "stream",
     "text": [
      "Index([ 17,  14,  13,  15,  16,  19,  18,  21,  12,  23,\n",
      "       ...\n",
      "       109,  50,  45, 112,  89, 114,  90, 107, 106,  88],\n",
      "      dtype='int64', length=128)\n"
     ]
    }
   ],
   "source": [
    "# Tạo dataframe gồm tên đặc trưng và tầm quan trọng\n",
    "feature_importances_df = pd.DataFrame({\"feature_name\": feature_names, \"importance\": feature_importances})\n",
    "\n",
    "# Sắp xếp dataframe theo tầm quan trọng\n",
    "feature_importances_df = feature_importances_df.sort_values(\"importance\", ascending=False)\n",
    "\n",
    "# Lấy index của dataframe\n",
    "indices = feature_importances_df.index\n",
    "\n",
    "# In index\n",
    "print(indices)"
   ]
  },
  {
   "cell_type": "code",
   "execution_count": 45,
   "id": "b48f548b-fccc-4db8-bd92-b9d6d3363a74",
   "metadata": {
    "tags": []
   },
   "outputs": [],
   "source": [
    "k = 64\n",
    "top_k_indices = indices[:k]"
   ]
  },
  {
   "cell_type": "code",
   "execution_count": 46,
   "id": "9216f5a0-f86e-40e7-b199-63521ea65e8d",
   "metadata": {
    "tags": []
   },
   "outputs": [],
   "source": [
    "selected_X = X[:,:,top_k_indices]\n",
    "selected_X_test = X_test[:,:,top_k_indices]"
   ]
  },
  {
   "cell_type": "code",
   "execution_count": 47,
   "id": "43ff299b-df42-4539-ba0d-da1ce0da3722",
   "metadata": {
    "tags": []
   },
   "outputs": [
    {
     "name": "stdout",
     "output_type": "stream",
     "text": [
      "Model: \"sequential_5\"\n",
      "_________________________________________________________________\n",
      " Layer (type)                Output Shape              Param #   \n",
      "=================================================================\n",
      " conv2d_16 (Conv2D)          (None, 20, 64, 32)        832       \n",
      "                                                                 \n",
      " conv2d_17 (Conv2D)          (None, 20, 64, 32)        25632     \n",
      "                                                                 \n",
      " max_pooling2d_8 (MaxPoolin  (None, 10, 32, 32)        0         \n",
      " g2D)                                                            \n",
      "                                                                 \n",
      " dropout_8 (Dropout)         (None, 10, 32, 32)        0         \n",
      "                                                                 \n",
      " conv2d_18 (Conv2D)          (None, 10, 32, 64)        51264     \n",
      "                                                                 \n",
      " conv2d_19 (Conv2D)          (None, 10, 32, 64)        102464    \n",
      "                                                                 \n",
      " max_pooling2d_9 (MaxPoolin  (None, 5, 16, 64)         0         \n",
      " g2D)                                                            \n",
      "                                                                 \n",
      " flatten_4 (Flatten)         (None, 5120)              0         \n",
      "                                                                 \n",
      " dense_8 (Dense)             (None, 64)                327744    \n",
      "                                                                 \n",
      " dropout_9 (Dropout)         (None, 64)                0         \n",
      "                                                                 \n",
      " dense_9 (Dense)             (None, 5)                 325       \n",
      "                                                                 \n",
      "=================================================================\n",
      "Total params: 508261 (1.94 MB)\n",
      "Trainable params: 508261 (1.94 MB)\n",
      "Non-trainable params: 0 (0.00 Byte)\n",
      "_________________________________________________________________\n"
     ]
    }
   ],
   "source": [
    "import tensorflow as tf\n",
    "from tensorflow import keras\n",
    "from tensorflow.keras import layers\n",
    "\n",
    "# Khởi tạo mô hình\n",
    "model = keras.Sequential()\n",
    "\n",
    "# Thêm lớp Convolutional Layer với 32 bộ lọc kích thước 5x5 và hàm kích hoạt ReLU\n",
    "model.add(layers.Conv2D(32, (5, 5), activation='relu', input_shape=(20, k, 1), padding='same'))\n",
    "\n",
    "# Thêm lớp Convolutional Layer với 32 bộ lọc kích thước 5x5 và hàm kích hoạt ReLU\n",
    "model.add(layers.Conv2D(32, (5,5), activation='relu', padding='same'))\n",
    "\n",
    "# Thêm lớp Max Pooling 2D để giảm kích thước đầu vào đi 2 lần\n",
    "model.add(layers.MaxPooling2D((2, 2)))\n",
    "\n",
    "# Thêm lớp Dropout để giảm hiện tượng overfitting\n",
    "model.add(layers.Dropout(0.5))\n",
    "\n",
    "# Thêm lớp Convolutional Layer với 64 bộ lọc kích thước 3x3 và hàm kích hoạt ReLU\n",
    "model.add(layers.Conv2D(64, (5, 5), activation='relu', padding='same'))\n",
    "\n",
    "# Thêm lớp Convolutional Layer với 64 bộ lọc kích thước 3x3 và hàm kích hoạt ReLU\n",
    "model.add(layers.Conv2D(64, (5, 5), activation='relu', padding='same'))\n",
    "\n",
    "# Thêm lớp Max Pooling 2D để giảm kích thước đầu vào đi 2 lần\n",
    "model.add(layers.MaxPooling2D((2, 2)))\n",
    "\n",
    "# Thêm lớp Flatten để làm phẳng đầu ra của lớp trước khi đi vào các lớp fully connected\n",
    "model.add(layers.Flatten())\n",
    "\n",
    "# Thêm lớp fully connected (Dense Layer) với 64 units và hàm kích hoạt ReLU\n",
    "model.add(layers.Dense(64, activation='relu'))\n",
    "\n",
    "# Thêm lớp Dropout để giảm hiện tượng overfitting\n",
    "model.add(layers.Dropout(0.5))\n",
    "\n",
    "# Thêm lớp fully connected (Dense Layer) cuối cùng với số lớp đầu ra phụ thuộc vào bài toán của bạn\n",
    "model.add(layers.Dense(5, activation='softmax'))\n",
    "\n",
    "# In thông tin mô hình\n",
    "model.summary()\n",
    "\n",
    "# Biên dịch mô hình\n",
    "model.compile(optimizer='adam', loss='sparse_categorical_crossentropy', metrics=['accuracy'])\n"
   ]
  },
  {
   "cell_type": "code",
   "execution_count": 48,
   "id": "9609e462-3411-4e0a-8a86-50a10635e6d0",
   "metadata": {
    "tags": []
   },
   "outputs": [
    {
     "name": "stdout",
     "output_type": "stream",
     "text": [
      "Epoch 1/10\n",
      "823/823 [==============================] - 40s 46ms/step - loss: 1.0782 - accuracy: 0.5520\n",
      "Epoch 2/10\n",
      "823/823 [==============================] - 38s 46ms/step - loss: 0.5399 - accuracy: 0.8034\n",
      "Epoch 3/10\n",
      "823/823 [==============================] - 37s 44ms/step - loss: 0.4381 - accuracy: 0.8400\n",
      "Epoch 4/10\n",
      "823/823 [==============================] - 38s 46ms/step - loss: 0.3752 - accuracy: 0.8646\n",
      "Epoch 5/10\n",
      "823/823 [==============================] - 39s 47ms/step - loss: 0.3573 - accuracy: 0.8697\n",
      "Epoch 6/10\n",
      "823/823 [==============================] - 35s 43ms/step - loss: 0.3273 - accuracy: 0.8779\n",
      "Epoch 7/10\n",
      "823/823 [==============================] - 34s 42ms/step - loss: 0.2997 - accuracy: 0.8930\n",
      "Epoch 8/10\n",
      "823/823 [==============================] - 35s 42ms/step - loss: 0.2784 - accuracy: 0.9004\n",
      "Epoch 9/10\n",
      "823/823 [==============================] - 35s 43ms/step - loss: 0.2617 - accuracy: 0.9076\n",
      "Epoch 10/10\n",
      "823/823 [==============================] - 35s 43ms/step - loss: 0.2357 - accuracy: 0.9177\n"
     ]
    },
    {
     "data": {
      "text/plain": [
       "<keras.src.callbacks.History at 0x1e8c3745b90>"
      ]
     },
     "execution_count": 48,
     "metadata": {},
     "output_type": "execute_result"
    }
   ],
   "source": [
    "model.compile(optimizer='adam', loss='sparse_categorical_crossentropy', metrics=['accuracy'])\n",
    "model.fit(selected_X, y, epochs=10, batch_size=16)"
   ]
  },
  {
   "cell_type": "code",
   "execution_count": 49,
   "id": "97a32a76-2b14-4017-8405-66d10ecd2cf5",
   "metadata": {
    "tags": []
   },
   "outputs": [
    {
     "name": "stdout",
     "output_type": "stream",
     "text": [
      "412/412 [==============================] - 11s 25ms/step - loss: 0.1554 - accuracy: 0.9404\n",
      "Độ chính xác trên tập kiểm tra: 0.9403766989707947\n",
      "412/412 [==============================] - 10s 25ms/step\n",
      "Ma trận nhầm lẫn:\n",
      "[[2842    0    0    0    0]\n",
      " [   0 1961   21   33   19]\n",
      " [   1    8 2700    3   96]\n",
      " [   0  273   19 1444    4]\n",
      " [   0   11  295    2 3434]]\n",
      "Báo cáo phân loại:\n",
      "              precision    recall  f1-score   support\n",
      "\n",
      "           0       1.00      1.00      1.00      2842\n",
      "           1       0.87      0.96      0.91      2034\n",
      "           2       0.89      0.96      0.92      2808\n",
      "           3       0.97      0.83      0.90      1740\n",
      "           4       0.97      0.92      0.94      3742\n",
      "\n",
      "    accuracy                           0.94     13166\n",
      "   macro avg       0.94      0.93      0.94     13166\n",
      "weighted avg       0.94      0.94      0.94     13166\n",
      "\n"
     ]
    }
   ],
   "source": [
    "# Đánh giá mô hình trên tập kiểm tra\n",
    "test_loss, test_accuracy = model.evaluate(selected_X_test, y_test)\n",
    "print(\"Độ chính xác trên tập kiểm tra:\", test_accuracy)\n",
    "\n",
    "# Dự đoán các nhãn trên tập kiểm tra\n",
    "y_pred = model.predict(selected_X_test)\n",
    "\n",
    "# Chuyển đổi dự đoán thành nhãn dự đoán (lớp dự đoán)\n",
    "y_pred_classes = np.argmax(y_pred, axis=1)\n",
    "\n",
    "# Hiển thị ma trận nhầm lẫn\n",
    "from sklearn.metrics import confusion_matrix, classification_report\n",
    "confusion = confusion_matrix(y_test, y_pred_classes)\n",
    "print(\"Ma trận nhầm lẫn:\")\n",
    "print(confusion)\n",
    "\n",
    "# Hiển thị báo cáo phân loại\n",
    "class_report = classification_report(y_test, y_pred_classes)\n",
    "print(\"Báo cáo phân loại:\")\n",
    "print(class_report)"
   ]
  },
  {
   "cell_type": "code",
   "execution_count": null,
   "id": "0ae6c802-ca09-4884-9a6b-cf5c1b4f32aa",
   "metadata": {},
   "outputs": [],
   "source": []
  }
 ],
 "metadata": {
  "kernelspec": {
   "display_name": "Python 3 (ipykernel)",
   "language": "python",
   "name": "python3"
  },
  "language_info": {
   "codemirror_mode": {
    "name": "ipython",
    "version": 3
   },
   "file_extension": ".py",
   "mimetype": "text/x-python",
   "name": "python",
   "nbconvert_exporter": "python",
   "pygments_lexer": "ipython3",
   "version": "3.11.5"
  }
 },
 "nbformat": 4,
 "nbformat_minor": 5
}
